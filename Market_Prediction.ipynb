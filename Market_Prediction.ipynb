{
  "cells": [
    {
      "cell_type": "markdown",
      "metadata": {
        "id": "view-in-github",
        "colab_type": "text"
      },
      "source": [
        "<a href=\"https://colab.research.google.com/github/damiMela/BashScripts/blob/main/Market_Prediction.ipynb\" target=\"_parent\"><img src=\"https://colab.research.google.com/assets/colab-badge.svg\" alt=\"Open In Colab\"/></a>"
      ]
    },
    {
      "cell_type": "markdown",
      "metadata": {
        "id": "Gu2xLINX0HiP"
      },
      "source": [
        "#Market Prediction"
      ]
    },
    {
      "cell_type": "markdown",
      "metadata": {
        "id": "OtIYHb_30KO7"
      },
      "source": [
        "# imports and system initialization"
      ]
    },
    {
      "cell_type": "code",
      "execution_count": null,
      "metadata": {
        "id": "Eg2lxGMayqcR"
      },
      "outputs": [],
      "source": [
        "import importlib\n",
        "def install_module(module_name):\n",
        "    try:\n",
        "        # Attempt to import the module\n",
        "        importlib.import_module(module_name)\n",
        "        print(f\"{module_name} is already installed.\")\n",
        "    except ImportError:\n",
        "        # Module is not installed, so install it\n",
        "        import subprocess\n",
        "        print(f\"Installing {module_name}...\")\n",
        "        subprocess.check_call(['pip', 'install', module_name])\n",
        "        print(f\"{module_name} has been successfully installed\")"
      ]
    },
    {
      "cell_type": "code",
      "execution_count": null,
      "metadata": {
        "colab": {
          "base_uri": "https://localhost:8080/"
        },
        "id": "5fTK3O9K0CuI",
        "outputId": "92554c22-6cc0-4804-ea3f-400208675138"
      },
      "outputs": [
        {
          "name": "stdout",
          "output_type": "stream",
          "text": [
            "yfinance is already installed.\n"
          ]
        },
        {
          "name": "stderr",
          "output_type": "stream",
          "text": [
            "/usr/local/lib/python3.10/dist-packages/yfinance/base.py:48: FutureWarning: The default dtype for empty Series will be 'object' instead of 'float64' in a future version. Specify a dtype explicitly to silence this warning.\n",
            "  _empty_series = pd.Series()\n"
          ]
        }
      ],
      "source": [
        "install_module(\"yfinance\")"
      ]
    },
    {
      "cell_type": "code",
      "execution_count": null,
      "metadata": {
        "id": "fZ4pGnIZ4zBj"
      },
      "outputs": [],
      "source": [
        "import tensorflow as tf\n",
        "import numpy as np\n",
        "import pandas as pd\n",
        "import keras\n"
      ]
    },
    {
      "cell_type": "markdown",
      "metadata": {
        "id": "eqYTonHC0R0N"
      },
      "source": [
        "# Dataset"
      ]
    },
    {
      "cell_type": "markdown",
      "metadata": {
        "id": "saYeJk4Pu6r3"
      },
      "source": [
        "## download and import"
      ]
    },
    {
      "cell_type": "code",
      "execution_count": null,
      "metadata": {
        "id": "5zo83ghH2BPP"
      },
      "outputs": [],
      "source": [
        "def download_and_save_data(symbol, start_date, end_date, interval, file_path):\n",
        "    data = yf.download(symbol, start=start_date, end=end_date, interval=interval)\n",
        "    data.to_csv(file_path)\n",
        "    print(\"Data downloaded and saved successfully.\")"
      ]
    },
    {
      "cell_type": "code",
      "execution_count": null,
      "metadata": {
        "id": "NlsR5V0n30Wd"
      },
      "outputs": [],
      "source": [
        "import pandas as pd\n",
        "# Load data from a CSV file\n",
        "def load_data(file_path):\n",
        "    return pd.read_csv(file_path)"
      ]
    },
    {
      "cell_type": "code",
      "execution_count": null,
      "metadata": {
        "colab": {
          "base_uri": "https://localhost:8080/"
        },
        "id": "J2ZJ2Yoi0WEL",
        "outputId": "1fb6810d-a993-4f81-d0b8-1af2b239c340"
      },
      "outputs": [
        {
          "name": "stderr",
          "output_type": "stream",
          "text": [
            "\r[*********************100%%**********************]  1 of 1 completed"
          ]
        },
        {
          "name": "stdout",
          "output_type": "stream",
          "text": [
            "Data downloaded and saved successfully.\n",
            "Data downloaded and saved.\n"
          ]
        },
        {
          "name": "stderr",
          "output_type": "stream",
          "text": [
            "\n"
          ]
        }
      ],
      "source": [
        "import yfinance as yf\n",
        "\n",
        "\n",
        "symbol = \"PFE\"\n",
        "start_date = \"2023-12-20\"\n",
        "end_date = \"2024-02-15\"\n",
        "file_path = \"pfizer_stock_data.csv\"\n",
        "interval = '5m'\n",
        "\n",
        "try:\n",
        "    df = load_data(file_path)\n",
        "    print(\"Data loaded from file.\")\n",
        "except FileNotFoundError:\n",
        "    # If the file doesn't exist, download the data\n",
        "    download_and_save_data(symbol, start_date, end_date, interval, file_path)\n",
        "    df = load_data(file_path)\n",
        "    print(\"Data downloaded and saved.\")"
      ]
    },
    {
      "cell_type": "markdown",
      "metadata": {
        "id": "7u7EmWHKu89I"
      },
      "source": [
        "## Preparation\n",
        "Cleanup, feature extraction and normalization"
      ]
    },
    {
      "cell_type": "code",
      "execution_count": null,
      "metadata": {
        "colab": {
          "base_uri": "https://localhost:8080/"
        },
        "id": "fsCUU4SY0bOn",
        "outputId": "0c35a94c-d533-4253-95d8-ca75813ee013"
      },
      "outputs": [
        {
          "name": "stdout",
          "output_type": "stream",
          "text": [
            "          Datetime       Open       High    Low      Close   Volume\n",
            "2963  1.707944e+09  27.105000  27.129999  27.09  27.106001  1217716\n",
            "2962  1.707944e+09  27.129999  27.129999  27.10  27.105000   587591\n",
            "2961  1.707944e+09  27.105000  27.129999  27.10  27.125000   318054\n",
            "2960  1.707943e+09  27.090000  27.105000  27.08  27.105000   246965\n",
            "2959  1.707943e+09  27.083799  27.100000  27.07  27.084999   179755\n"
          ]
        }
      ],
      "source": [
        "# Clean the data\n",
        "df = df.dropna()\n",
        "\n",
        "#sort by date\n",
        "df['Datetime'] = pd.to_datetime(df['Datetime'])\n",
        "df = df.sort_values(by='Datetime',  ascending=[False])\n",
        "\n",
        "#convert to Unix timestamp\n",
        "df['Datetime'] = df['Datetime'].apply(lambda x: x.timestamp())\n",
        "\n",
        "# Perform feature engineering\n",
        "#df['MA_50'] = df['Close'].rolling(window=50).mean()\n",
        "#df['MA_200'] = df['Close'].rolling(window=200).mean()\n",
        "\n",
        "\n",
        "df = df.drop('Adj Close', axis=1)\n",
        "\n",
        "print(df.head())\n"
      ]
    },
    {
      "cell_type": "code",
      "execution_count": null,
      "metadata": {
        "id": "MEgjY-s7ehrc"
      },
      "outputs": [],
      "source": [
        "from sklearn.preprocessing import MinMaxScaler\n",
        "\n",
        "scaler = MinMaxScaler()\n",
        "scaler.fit(df)\n",
        "normalized_df =  pd.DataFrame(scaler.transform(df), columns=df.columns)\n"
      ]
    },
    {
      "cell_type": "code",
      "execution_count": null,
      "metadata": {
        "id": "SkRTvdxRem_o"
      },
      "outputs": [],
      "source": [
        "# # Split the data into train and test sets\n",
        "train_size = int(len(normalized_df) * 0.75)\n",
        "val_size = int(len(normalized_df) * 0.2)\n",
        "train_data = normalized_df[:train_size]\n",
        "val_data = normalized_df[train_size:train_size+val_size]\n",
        "test_data = normalized_df[train_size+val_size:]"
      ]
    },
    {
      "cell_type": "markdown",
      "metadata": {
        "id": "6_sUf-i-Wyms"
      },
      "source": [
        "## Dataset generation"
      ]
    },
    {
      "cell_type": "code",
      "execution_count": null,
      "metadata": {
        "id": "_hPAIuH8FyQb"
      },
      "outputs": [],
      "source": [
        "def create_dataset(dataset, time_step = 1):\n",
        "    dataX,dataY = [],[]\n",
        "\n",
        "    low_column_index = dataset.columns.get_loc('Low')\n",
        "    high_column_index = dataset.columns.get_loc('High')\n",
        "    close_column_index = dataset.columns.get_loc('Close')\n",
        "    volume_column_index = dataset.columns.get_loc('Volume')\n",
        "\n",
        "\n",
        "    for i in range(len(dataset)-time_step-1):\n",
        "      input = dataset.iloc[i:(i+time_step-1), [close_column_index]].values\n",
        "      dataX.append(input)\n",
        "\n",
        "      target = dataset.iloc[i+time_step, [close_column_index, high_column_index]].values\n",
        "      dataY.append(target)\n",
        "    return np.array(dataX),np.array(dataY)"
      ]
    },
    {
      "cell_type": "code",
      "execution_count": null,
      "metadata": {
        "colab": {
          "base_uri": "https://localhost:8080/"
        },
        "id": "0uAv_F2dGT6Z",
        "outputId": "d57853c6-0587-48ed-e2d3-7cdbde7bc89a"
      },
      "outputs": [
        {
          "name": "stdout",
          "output_type": "stream",
          "text": [
            "Training on 2210 elements\n",
            "Validating on 579 elements\n",
            "Testing on 136 elements\n",
            "training features: 1\n"
          ]
        }
      ],
      "source": [
        "time_step = 12\n",
        "X_train,Y_train =  create_dataset(train_data,time_step)\n",
        "X_val,Y_val =  create_dataset(val_data,time_step)\n",
        "X_test,Y_test = create_dataset(test_data,time_step)\n",
        "\n",
        "\n",
        "print(f\"Training on {X_train.shape[0]} elements\")\n",
        "print(f\"Validating on {X_val.shape[0]} elements\")\n",
        "print(f\"Testing on {X_test.shape[0]} elements\")\n",
        "\n",
        "col_count = len(X_train[0][0])\n",
        "print(f\"training features: {col_count}\")"
      ]
    },
    {
      "cell_type": "markdown",
      "metadata": {
        "id": "6d5HR7Xi0q0K"
      },
      "source": [
        "# Neural network"
      ]
    },
    {
      "cell_type": "markdown",
      "metadata": {
        "id": "vHXMtZ4H1R8l"
      },
      "source": [
        "## Model Creation"
      ]
    },
    {
      "cell_type": "code",
      "execution_count": null,
      "metadata": {
        "id": "VaOM7ns10xS1"
      },
      "outputs": [],
      "source": [
        "from tensorflow.keras.models import Sequential\n",
        "from tensorflow.keras.layers import Dense, LSTM, Dropout\n",
        "\n",
        "model = Sequential()\n",
        "model.add(LSTM(50,return_sequences = True,input_shape = (X_train.shape[1],col_count)))\n",
        "model.add(Dropout(0.1))\n",
        "model.add(LSTM(50,return_sequences = True))\n",
        "model.add(LSTM(50))\n",
        "model.add(Dense(2))"
      ]
    },
    {
      "cell_type": "code",
      "execution_count": null,
      "metadata": {
        "colab": {
          "base_uri": "https://localhost:8080/"
        },
        "id": "WKaAnrjkEs1a",
        "outputId": "b80bdc3b-f1c8-4100-a02a-a9d1e91a5a2e"
      },
      "outputs": [
        {
          "name": "stdout",
          "output_type": "stream",
          "text": [
            "Model: \"sequential\"\n",
            "_________________________________________________________________\n",
            " Layer (type)                Output Shape              Param #   \n",
            "=================================================================\n",
            " lstm (LSTM)                 (None, 11, 50)            10400     \n",
            "                                                                 \n",
            " dropout (Dropout)           (None, 11, 50)            0         \n",
            "                                                                 \n",
            " lstm_1 (LSTM)               (None, 11, 50)            20200     \n",
            "                                                                 \n",
            " lstm_2 (LSTM)               (None, 50)                20200     \n",
            "                                                                 \n",
            " dense (Dense)               (None, 2)                 102       \n",
            "                                                                 \n",
            "=================================================================\n",
            "Total params: 50902 (198.84 KB)\n",
            "Trainable params: 50902 (198.84 KB)\n",
            "Non-trainable params: 0 (0.00 Byte)\n",
            "_________________________________________________________________\n"
          ]
        }
      ],
      "source": [
        "base_learning_rate = 0.0001\n",
        "model.compile(loss = 'mean_squared_error',optimizer = 'adam', metrics=['mean_squared_error'])\n",
        "model.summary()"
      ]
    },
    {
      "cell_type": "markdown",
      "metadata": {
        "id": "ONuaCl-rIBxG"
      },
      "source": [
        "## Training"
      ]
    },
    {
      "cell_type": "code",
      "execution_count": null,
      "metadata": {
        "colab": {
          "base_uri": "https://localhost:8080/"
        },
        "id": "WJhNaPq4H5Ht",
        "outputId": "2e47a39d-d3e6-4e5e-dc94-66635eeab4a0"
      },
      "outputs": [
        {
          "name": "stdout",
          "output_type": "stream",
          "text": [
            "19/19 [==============================] - 2s 7ms/step - loss: 0.4358 - mean_squared_error: 0.4358\n",
            "initial loss: 0.44\n",
            "initial mean squared error: 0.44\n"
          ]
        }
      ],
      "source": [
        "loss0, accuracy0 =  model.evaluate(X_val, Y_val, verbose=1)\n",
        "print(\"initial loss: {:.2f}\".format(loss0))\n",
        "print(\"initial mean squared error: {:.2f}\".format(accuracy0))"
      ]
    },
    {
      "cell_type": "code",
      "execution_count": null,
      "metadata": {
        "colab": {
          "background_save": true,
          "base_uri": "https://localhost:8080/"
        },
        "id": "czYU5Xv6HCLB",
        "outputId": "ded53055-855e-45b4-dba1-eec024541537"
      },
      "outputs": [
        {
          "name": "stdout",
          "output_type": "stream",
          "text": [
            "Epoch 1/100\n",
            "35/35 [==============================] - 8s 54ms/step - loss: 0.0384 - mean_squared_error: 0.0384 - val_loss: 0.0033 - val_mean_squared_error: 0.0033\n",
            "Epoch 2/100\n",
            "35/35 [==============================] - 1s 32ms/step - loss: 0.0022 - mean_squared_error: 0.0022 - val_loss: 0.0021 - val_mean_squared_error: 0.0021\n",
            "Epoch 3/100\n",
            "35/35 [==============================] - 1s 27ms/step - loss: 0.0012 - mean_squared_error: 0.0012 - val_loss: 0.0019 - val_mean_squared_error: 0.0019\n",
            "Epoch 4/100\n",
            "35/35 [==============================] - 1s 27ms/step - loss: 0.0012 - mean_squared_error: 0.0012 - val_loss: 0.0018 - val_mean_squared_error: 0.0018\n",
            "Epoch 5/100\n",
            "35/35 [==============================] - 1s 27ms/step - loss: 0.0012 - mean_squared_error: 0.0012 - val_loss: 0.0020 - val_mean_squared_error: 0.0020\n",
            "Epoch 6/100\n",
            "35/35 [==============================] - 1s 28ms/step - loss: 0.0012 - mean_squared_error: 0.0012 - val_loss: 0.0018 - val_mean_squared_error: 0.0018\n",
            "Epoch 7/100\n",
            "35/35 [==============================] - 1s 28ms/step - loss: 0.0011 - mean_squared_error: 0.0011 - val_loss: 0.0018 - val_mean_squared_error: 0.0018\n",
            "Epoch 8/100\n",
            "35/35 [==============================] - 1s 29ms/step - loss: 0.0012 - mean_squared_error: 0.0012 - val_loss: 0.0020 - val_mean_squared_error: 0.0020\n",
            "Epoch 9/100\n",
            "35/35 [==============================] - 1s 29ms/step - loss: 0.0012 - mean_squared_error: 0.0012 - val_loss: 0.0018 - val_mean_squared_error: 0.0018\n",
            "Epoch 10/100\n",
            "35/35 [==============================] - 1s 29ms/step - loss: 0.0012 - mean_squared_error: 0.0012 - val_loss: 0.0019 - val_mean_squared_error: 0.0019\n",
            "Epoch 11/100\n",
            "35/35 [==============================] - 1s 26ms/step - loss: 0.0011 - mean_squared_error: 0.0011 - val_loss: 0.0019 - val_mean_squared_error: 0.0019\n",
            "Epoch 12/100\n",
            "35/35 [==============================] - 1s 35ms/step - loss: 0.0011 - mean_squared_error: 0.0011 - val_loss: 0.0018 - val_mean_squared_error: 0.0018\n",
            "Epoch 13/100\n",
            "35/35 [==============================] - 1s 42ms/step - loss: 0.0011 - mean_squared_error: 0.0011 - val_loss: 0.0017 - val_mean_squared_error: 0.0017\n",
            "Epoch 14/100\n",
            "35/35 [==============================] - 1s 32ms/step - loss: 0.0011 - mean_squared_error: 0.0011 - val_loss: 0.0017 - val_mean_squared_error: 0.0017\n",
            "Epoch 15/100\n",
            "35/35 [==============================] - 1s 27ms/step - loss: 0.0011 - mean_squared_error: 0.0011 - val_loss: 0.0017 - val_mean_squared_error: 0.0017\n",
            "Epoch 16/100\n",
            "35/35 [==============================] - 1s 29ms/step - loss: 0.0011 - mean_squared_error: 0.0011 - val_loss: 0.0018 - val_mean_squared_error: 0.0018\n",
            "Epoch 17/100\n",
            "35/35 [==============================] - 1s 29ms/step - loss: 0.0011 - mean_squared_error: 0.0011 - val_loss: 0.0017 - val_mean_squared_error: 0.0017\n",
            "Epoch 18/100\n",
            "35/35 [==============================] - 1s 29ms/step - loss: 0.0011 - mean_squared_error: 0.0011 - val_loss: 0.0017 - val_mean_squared_error: 0.0017\n",
            "Epoch 19/100\n",
            "35/35 [==============================] - 1s 27ms/step - loss: 0.0011 - mean_squared_error: 0.0011 - val_loss: 0.0020 - val_mean_squared_error: 0.0020\n",
            "Epoch 20/100\n",
            "35/35 [==============================] - 1s 27ms/step - loss: 0.0011 - mean_squared_error: 0.0011 - val_loss: 0.0016 - val_mean_squared_error: 0.0016\n",
            "Epoch 21/100\n",
            "35/35 [==============================] - 1s 26ms/step - loss: 0.0010 - mean_squared_error: 0.0010 - val_loss: 0.0016 - val_mean_squared_error: 0.0016\n",
            "Epoch 22/100\n",
            "35/35 [==============================] - 1s 26ms/step - loss: 0.0011 - mean_squared_error: 0.0011 - val_loss: 0.0016 - val_mean_squared_error: 0.0016\n",
            "Epoch 23/100\n",
            "35/35 [==============================] - 1s 28ms/step - loss: 0.0011 - mean_squared_error: 0.0011 - val_loss: 0.0017 - val_mean_squared_error: 0.0017\n",
            "Epoch 24/100\n",
            "35/35 [==============================] - 1s 32ms/step - loss: 0.0010 - mean_squared_error: 0.0010 - val_loss: 0.0016 - val_mean_squared_error: 0.0016\n",
            "Epoch 25/100\n",
            "35/35 [==============================] - 1s 41ms/step - loss: 0.0010 - mean_squared_error: 0.0010 - val_loss: 0.0015 - val_mean_squared_error: 0.0015\n",
            "Epoch 26/100\n",
            "35/35 [==============================] - 1s 34ms/step - loss: 0.0010 - mean_squared_error: 0.0010 - val_loss: 0.0024 - val_mean_squared_error: 0.0024\n",
            "Epoch 27/100\n",
            "35/35 [==============================] - 1s 28ms/step - loss: 0.0011 - mean_squared_error: 0.0011 - val_loss: 0.0014 - val_mean_squared_error: 0.0014\n",
            "Epoch 28/100\n",
            "35/35 [==============================] - 1s 28ms/step - loss: 0.0010 - mean_squared_error: 0.0010 - val_loss: 0.0014 - val_mean_squared_error: 0.0014\n",
            "Epoch 29/100\n",
            "35/35 [==============================] - 1s 29ms/step - loss: 9.7439e-04 - mean_squared_error: 9.7439e-04 - val_loss: 0.0014 - val_mean_squared_error: 0.0014\n",
            "Epoch 30/100\n",
            "35/35 [==============================] - 1s 29ms/step - loss: 9.2655e-04 - mean_squared_error: 9.2655e-04 - val_loss: 0.0014 - val_mean_squared_error: 0.0014\n",
            "Epoch 31/100\n",
            "35/35 [==============================] - 1s 28ms/step - loss: 9.8444e-04 - mean_squared_error: 9.8444e-04 - val_loss: 0.0013 - val_mean_squared_error: 0.0013\n",
            "Epoch 32/100\n",
            "35/35 [==============================] - 1s 28ms/step - loss: 9.2979e-04 - mean_squared_error: 9.2979e-04 - val_loss: 0.0013 - val_mean_squared_error: 0.0013\n",
            "Epoch 33/100\n",
            "35/35 [==============================] - 1s 29ms/step - loss: 8.8941e-04 - mean_squared_error: 8.8941e-04 - val_loss: 0.0012 - val_mean_squared_error: 0.0012\n",
            "Epoch 34/100\n",
            "35/35 [==============================] - 1s 29ms/step - loss: 8.9410e-04 - mean_squared_error: 8.9410e-04 - val_loss: 0.0016 - val_mean_squared_error: 0.0016\n",
            "Epoch 35/100\n",
            "35/35 [==============================] - 1s 28ms/step - loss: 9.1256e-04 - mean_squared_error: 9.1256e-04 - val_loss: 0.0011 - val_mean_squared_error: 0.0011\n",
            "Epoch 36/100\n",
            "35/35 [==============================] - 1s 37ms/step - loss: 8.3643e-04 - mean_squared_error: 8.3643e-04 - val_loss: 0.0010 - val_mean_squared_error: 0.0010\n",
            "Epoch 37/100\n",
            "35/35 [==============================] - 1s 42ms/step - loss: 8.5918e-04 - mean_squared_error: 8.5918e-04 - val_loss: 0.0018 - val_mean_squared_error: 0.0018\n",
            "Epoch 38/100\n",
            "35/35 [==============================] - 1s 29ms/step - loss: 8.6680e-04 - mean_squared_error: 8.6680e-04 - val_loss: 9.9121e-04 - val_mean_squared_error: 9.9121e-04\n",
            "Epoch 39/100\n",
            "35/35 [==============================] - 1s 29ms/step - loss: 8.5945e-04 - mean_squared_error: 8.5945e-04 - val_loss: 0.0010 - val_mean_squared_error: 0.0010\n",
            "Epoch 40/100\n",
            "35/35 [==============================] - 1s 27ms/step - loss: 8.3282e-04 - mean_squared_error: 8.3282e-04 - val_loss: 9.9410e-04 - val_mean_squared_error: 9.9410e-04\n",
            "Epoch 41/100\n",
            "35/35 [==============================] - 1s 30ms/step - loss: 7.6552e-04 - mean_squared_error: 7.6552e-04 - val_loss: 0.0017 - val_mean_squared_error: 0.0017\n",
            "Epoch 42/100\n",
            "35/35 [==============================] - 1s 28ms/step - loss: 7.9230e-04 - mean_squared_error: 7.9230e-04 - val_loss: 8.7146e-04 - val_mean_squared_error: 8.7146e-04\n",
            "Epoch 43/100\n",
            "35/35 [==============================] - 1s 30ms/step - loss: 7.8493e-04 - mean_squared_error: 7.8493e-04 - val_loss: 8.2056e-04 - val_mean_squared_error: 8.2056e-04\n",
            "Epoch 44/100\n",
            "35/35 [==============================] - 1s 29ms/step - loss: 7.7873e-04 - mean_squared_error: 7.7873e-04 - val_loss: 8.5415e-04 - val_mean_squared_error: 8.5415e-04\n",
            "Epoch 45/100\n",
            "35/35 [==============================] - 1s 27ms/step - loss: 7.3934e-04 - mean_squared_error: 7.3934e-04 - val_loss: 8.9401e-04 - val_mean_squared_error: 8.9401e-04\n",
            "Epoch 46/100\n",
            "35/35 [==============================] - 1s 29ms/step - loss: 7.3030e-04 - mean_squared_error: 7.3030e-04 - val_loss: 7.5093e-04 - val_mean_squared_error: 7.5093e-04\n",
            "Epoch 47/100\n",
            "35/35 [==============================] - 1s 28ms/step - loss: 7.0853e-04 - mean_squared_error: 7.0853e-04 - val_loss: 7.4250e-04 - val_mean_squared_error: 7.4250e-04\n",
            "Epoch 48/100\n",
            "35/35 [==============================] - 1s 41ms/step - loss: 6.9550e-04 - mean_squared_error: 6.9550e-04 - val_loss: 6.9292e-04 - val_mean_squared_error: 6.9292e-04\n",
            "Epoch 49/100\n",
            "35/35 [==============================] - 1s 37ms/step - loss: 7.1790e-04 - mean_squared_error: 7.1790e-04 - val_loss: 0.0012 - val_mean_squared_error: 0.0012\n",
            "Epoch 50/100\n",
            "35/35 [==============================] - 1s 28ms/step - loss: 7.6362e-04 - mean_squared_error: 7.6362e-04 - val_loss: 0.0016 - val_mean_squared_error: 0.0016\n",
            "Epoch 51/100\n",
            "35/35 [==============================] - 1s 28ms/step - loss: 7.2084e-04 - mean_squared_error: 7.2084e-04 - val_loss: 7.5467e-04 - val_mean_squared_error: 7.5467e-04\n",
            "Epoch 52/100\n",
            "35/35 [==============================] - 1s 29ms/step - loss: 6.9724e-04 - mean_squared_error: 6.9724e-04 - val_loss: 6.7983e-04 - val_mean_squared_error: 6.7983e-04\n",
            "Epoch 53/100\n",
            "35/35 [==============================] - 1s 30ms/step - loss: 6.5782e-04 - mean_squared_error: 6.5782e-04 - val_loss: 6.5926e-04 - val_mean_squared_error: 6.5926e-04\n",
            "Epoch 54/100\n",
            "35/35 [==============================] - 1s 27ms/step - loss: 7.5912e-04 - mean_squared_error: 7.5912e-04 - val_loss: 0.0012 - val_mean_squared_error: 0.0012\n",
            "Epoch 55/100\n",
            "35/35 [==============================] - 1s 28ms/step - loss: 6.8242e-04 - mean_squared_error: 6.8242e-04 - val_loss: 7.3471e-04 - val_mean_squared_error: 7.3471e-04\n",
            "Epoch 56/100\n",
            "35/35 [==============================] - 1s 29ms/step - loss: 6.8789e-04 - mean_squared_error: 6.8789e-04 - val_loss: 6.5622e-04 - val_mean_squared_error: 6.5622e-04\n",
            "Epoch 57/100\n",
            "35/35 [==============================] - 1s 28ms/step - loss: 6.4605e-04 - mean_squared_error: 6.4605e-04 - val_loss: 6.7114e-04 - val_mean_squared_error: 6.7114e-04\n",
            "Epoch 58/100\n",
            "35/35 [==============================] - 1s 29ms/step - loss: 6.6704e-04 - mean_squared_error: 6.6704e-04 - val_loss: 9.5877e-04 - val_mean_squared_error: 9.5877e-04\n",
            "Epoch 59/100\n",
            "35/35 [==============================] - 1s 32ms/step - loss: 6.4284e-04 - mean_squared_error: 6.4284e-04 - val_loss: 6.3564e-04 - val_mean_squared_error: 6.3564e-04\n",
            "Epoch 60/100\n",
            "35/35 [==============================] - 1s 42ms/step - loss: 6.3707e-04 - mean_squared_error: 6.3707e-04 - val_loss: 5.9244e-04 - val_mean_squared_error: 5.9244e-04\n",
            "Epoch 61/100\n",
            "35/35 [==============================] - 1s 35ms/step - loss: 6.0819e-04 - mean_squared_error: 6.0819e-04 - val_loss: 6.7747e-04 - val_mean_squared_error: 6.7747e-04\n",
            "Epoch 62/100\n",
            "35/35 [==============================] - 1s 28ms/step - loss: 6.2068e-04 - mean_squared_error: 6.2068e-04 - val_loss: 7.7492e-04 - val_mean_squared_error: 7.7492e-04\n",
            "Epoch 63/100\n",
            "35/35 [==============================] - 1s 28ms/step - loss: 6.1777e-04 - mean_squared_error: 6.1777e-04 - val_loss: 5.6515e-04 - val_mean_squared_error: 5.6515e-04\n",
            "Epoch 64/100\n",
            "35/35 [==============================] - 1s 29ms/step - loss: 6.0343e-04 - mean_squared_error: 6.0343e-04 - val_loss: 6.2762e-04 - val_mean_squared_error: 6.2762e-04\n",
            "Epoch 65/100\n",
            "35/35 [==============================] - 1s 27ms/step - loss: 6.1483e-04 - mean_squared_error: 6.1483e-04 - val_loss: 5.5939e-04 - val_mean_squared_error: 5.5939e-04\n",
            "Epoch 66/100\n",
            "35/35 [==============================] - 1s 29ms/step - loss: 6.1350e-04 - mean_squared_error: 6.1350e-04 - val_loss: 5.7637e-04 - val_mean_squared_error: 5.7637e-04\n",
            "Epoch 67/100\n",
            "35/35 [==============================] - 1s 29ms/step - loss: 6.2053e-04 - mean_squared_error: 6.2053e-04 - val_loss: 0.0011 - val_mean_squared_error: 0.0011\n",
            "Epoch 68/100\n",
            "35/35 [==============================] - 1s 29ms/step - loss: 6.0071e-04 - mean_squared_error: 6.0071e-04 - val_loss: 7.0644e-04 - val_mean_squared_error: 7.0644e-04\n",
            "Epoch 69/100\n",
            "35/35 [==============================] - 1s 29ms/step - loss: 6.0448e-04 - mean_squared_error: 6.0448e-04 - val_loss: 7.6619e-04 - val_mean_squared_error: 7.6619e-04\n",
            "Epoch 70/100\n",
            "35/35 [==============================] - 1s 29ms/step - loss: 6.0467e-04 - mean_squared_error: 6.0467e-04 - val_loss: 5.5011e-04 - val_mean_squared_error: 5.5011e-04\n",
            "Epoch 71/100\n",
            "35/35 [==============================] - 1s 39ms/step - loss: 5.9963e-04 - mean_squared_error: 5.9963e-04 - val_loss: 6.8320e-04 - val_mean_squared_error: 6.8320e-04\n",
            "Epoch 72/100\n",
            "35/35 [==============================] - 1s 41ms/step - loss: 6.3338e-04 - mean_squared_error: 6.3338e-04 - val_loss: 6.0292e-04 - val_mean_squared_error: 6.0292e-04\n",
            "Epoch 73/100\n",
            "35/35 [==============================] - 1s 30ms/step - loss: 5.6471e-04 - mean_squared_error: 5.6471e-04 - val_loss: 5.8485e-04 - val_mean_squared_error: 5.8485e-04\n",
            "Epoch 74/100\n",
            "35/35 [==============================] - 1s 27ms/step - loss: 5.7544e-04 - mean_squared_error: 5.7544e-04 - val_loss: 7.8292e-04 - val_mean_squared_error: 7.8292e-04\n",
            "Epoch 75/100\n",
            "35/35 [==============================] - 1s 29ms/step - loss: 5.7734e-04 - mean_squared_error: 5.7734e-04 - val_loss: 5.5822e-04 - val_mean_squared_error: 5.5822e-04\n",
            "Epoch 76/100\n",
            "35/35 [==============================] - 1s 30ms/step - loss: 5.4760e-04 - mean_squared_error: 5.4760e-04 - val_loss: 5.2616e-04 - val_mean_squared_error: 5.2616e-04\n",
            "Epoch 77/100\n",
            "35/35 [==============================] - 1s 29ms/step - loss: 5.2988e-04 - mean_squared_error: 5.2988e-04 - val_loss: 5.2796e-04 - val_mean_squared_error: 5.2796e-04\n",
            "Epoch 78/100\n",
            "35/35 [==============================] - 1s 28ms/step - loss: 5.5414e-04 - mean_squared_error: 5.5414e-04 - val_loss: 4.9928e-04 - val_mean_squared_error: 4.9928e-04\n",
            "Epoch 79/100\n",
            "35/35 [==============================] - 1s 27ms/step - loss: 5.4591e-04 - mean_squared_error: 5.4591e-04 - val_loss: 5.8244e-04 - val_mean_squared_error: 5.8244e-04\n",
            "Epoch 80/100\n",
            "35/35 [==============================] - 1s 27ms/step - loss: 5.4624e-04 - mean_squared_error: 5.4624e-04 - val_loss: 5.0402e-04 - val_mean_squared_error: 5.0402e-04\n",
            "Epoch 81/100\n",
            "35/35 [==============================] - 1s 30ms/step - loss: 5.2919e-04 - mean_squared_error: 5.2919e-04 - val_loss: 6.0767e-04 - val_mean_squared_error: 6.0767e-04\n",
            "Epoch 82/100\n",
            "35/35 [==============================] - 1s 31ms/step - loss: 5.3622e-04 - mean_squared_error: 5.3622e-04 - val_loss: 5.5844e-04 - val_mean_squared_error: 5.5844e-04\n",
            "Epoch 83/100\n",
            "35/35 [==============================] - 1s 42ms/step - loss: 5.1537e-04 - mean_squared_error: 5.1537e-04 - val_loss: 5.1681e-04 - val_mean_squared_error: 5.1681e-04\n",
            "Epoch 84/100\n",
            "35/35 [==============================] - 1s 36ms/step - loss: 5.2026e-04 - mean_squared_error: 5.2026e-04 - val_loss: 8.9087e-04 - val_mean_squared_error: 8.9087e-04\n",
            "Epoch 85/100\n",
            "35/35 [==============================] - 1s 28ms/step - loss: 5.2992e-04 - mean_squared_error: 5.2992e-04 - val_loss: 5.0701e-04 - val_mean_squared_error: 5.0701e-04\n",
            "Epoch 86/100\n",
            "35/35 [==============================] - 1s 29ms/step - loss: 5.1491e-04 - mean_squared_error: 5.1491e-04 - val_loss: 4.7673e-04 - val_mean_squared_error: 4.7673e-04\n",
            "Epoch 87/100\n",
            "35/35 [==============================] - 1s 28ms/step - loss: 5.2610e-04 - mean_squared_error: 5.2610e-04 - val_loss: 4.8368e-04 - val_mean_squared_error: 4.8368e-04\n",
            "Epoch 88/100\n",
            "35/35 [==============================] - 1s 28ms/step - loss: 4.9451e-04 - mean_squared_error: 4.9451e-04 - val_loss: 6.0496e-04 - val_mean_squared_error: 6.0496e-04\n",
            "Epoch 89/100\n",
            "35/35 [==============================] - 1s 29ms/step - loss: 4.9379e-04 - mean_squared_error: 4.9379e-04 - val_loss: 5.4589e-04 - val_mean_squared_error: 5.4589e-04\n",
            "Epoch 90/100\n",
            "35/35 [==============================] - 1s 28ms/step - loss: 5.0237e-04 - mean_squared_error: 5.0237e-04 - val_loss: 4.7710e-04 - val_mean_squared_error: 4.7710e-04\n",
            "Epoch 91/100\n",
            "35/35 [==============================] - 1s 29ms/step - loss: 5.0453e-04 - mean_squared_error: 5.0453e-04 - val_loss: 6.6114e-04 - val_mean_squared_error: 6.6114e-04\n",
            "Epoch 92/100\n",
            "35/35 [==============================] - 1s 30ms/step - loss: 5.3034e-04 - mean_squared_error: 5.3034e-04 - val_loss: 9.1885e-04 - val_mean_squared_error: 9.1885e-04\n",
            "Epoch 93/100\n",
            "35/35 [==============================] - 1s 29ms/step - loss: 5.0939e-04 - mean_squared_error: 5.0939e-04 - val_loss: 5.2192e-04 - val_mean_squared_error: 5.2192e-04\n",
            "Epoch 94/100\n",
            "35/35 [==============================] - 1s 38ms/step - loss: 5.0231e-04 - mean_squared_error: 5.0231e-04 - val_loss: 6.6614e-04 - val_mean_squared_error: 6.6614e-04\n",
            "Epoch 95/100\n",
            "35/35 [==============================] - 1s 41ms/step - loss: 5.0944e-04 - mean_squared_error: 5.0944e-04 - val_loss: 5.2842e-04 - val_mean_squared_error: 5.2842e-04\n",
            "Epoch 96/100\n",
            "35/35 [==============================] - 1s 28ms/step - loss: 4.8528e-04 - mean_squared_error: 4.8528e-04 - val_loss: 5.0942e-04 - val_mean_squared_error: 5.0942e-04\n",
            "Epoch 97/100\n",
            "35/35 [==============================] - 1s 29ms/step - loss: 5.2187e-04 - mean_squared_error: 5.2187e-04 - val_loss: 5.1675e-04 - val_mean_squared_error: 5.1675e-04\n",
            "Epoch 98/100\n",
            "35/35 [==============================] - 1s 30ms/step - loss: 5.1538e-04 - mean_squared_error: 5.1538e-04 - val_loss: 7.1956e-04 - val_mean_squared_error: 7.1956e-04\n",
            "Epoch 99/100\n",
            "35/35 [==============================] - 1s 30ms/step - loss: 5.0821e-04 - mean_squared_error: 5.0821e-04 - val_loss: 5.3440e-04 - val_mean_squared_error: 5.3440e-04\n",
            "Epoch 100/100\n",
            "35/35 [==============================] - 1s 28ms/step - loss: 4.8288e-04 - mean_squared_error: 4.8288e-04 - val_loss: 4.8471e-04 - val_mean_squared_error: 4.8471e-04\n"
          ]
        }
      ],
      "source": [
        "history = model.fit(X_train,Y_train,\n",
        "                    validation_data = (X_val,Y_val),\n",
        "                    epochs = 100,\n",
        "                    batch_size = 64,\n",
        "                    verbose = 1)"
      ]
    },
    {
      "cell_type": "markdown",
      "metadata": {
        "id": "N06DpZbTIFOO"
      },
      "source": [
        "### Train evaluation"
      ]
    },
    {
      "cell_type": "code",
      "execution_count": null,
      "metadata": {
        "colab": {
          "background_save": true
        },
        "id": "gcCIfE7hfnrE",
        "outputId": "8ed22fbf-209b-4217-e5cc-abc5c3c6a742"
      },
      "outputs": [
        {
          "data": {
            "image/png": "[encoded data removed]",
            "text/plain": [
              "<Figure size 800x800 with 2 Axes>"
            ]
          },
          "metadata": {},
          "output_type": "display_data"
        }
      ],
      "source": [
        "import matplotlib.pyplot as plt\n",
        "\n",
        "acc = history.history['mean_squared_error']\n",
        "val_acc = history.history['val_mean_squared_error']\n",
        "\n",
        "loss = history.history['loss']\n",
        "val_loss = history.history['val_loss']\n",
        "\n",
        "plt.figure(figsize=(8, 8))\n",
        "plt.subplot(2, 1, 1)\n",
        "plt.plot(acc, label='Training accuracy')\n",
        "plt.plot(val_acc, label='Validation accuracy')\n",
        "plt.legend(loc='lower right')\n",
        "plt.ylabel('accuracy')\n",
        "plt.ylim([min(plt.ylim()),0.01])\n",
        "plt.title('Training and Validation accuracy')\n",
        "\n",
        "plt.subplot(2, 1, 2)\n",
        "plt.plot(loss, label='Training Loss')\n",
        "plt.plot(val_loss, label='Validation Loss')\n",
        "plt.legend(loc='upper right')\n",
        "plt.ylabel('Cross Entropy')\n",
        "plt.ylim([0,.005])\n",
        "plt.title('Training and Validation Loss')\n",
        "plt.xlabel('epoch')\n",
        "plt.show()"
      ]
    },
    {
      "cell_type": "markdown",
      "metadata": {
        "id": "d3bTKwLv06Yv"
      },
      "source": [
        "## Fine tunng"
      ]
    },
    {
      "cell_type": "code",
      "execution_count": null,
      "metadata": {
        "id": "Mosid_wm09AA"
      },
      "outputs": [],
      "source": [
        "# freeze first layers\n",
        "model.trainable = False\n",
        "for layer in model.layers[-120:]:\n",
        "    layer.trainable = True\n",
        "\n",
        "model.compile(loss = 'mean_squared_error',optimizer = 'adam', metrics=['mean_squared_error'])\n",
        "\n",
        "# Train the model\n",
        "history = model.fit(X_train,Y_train,validation_data = (X_val,Y_val),epochs = 100,batch_size = 64,verbose = 1)"
      ]
    },
    {
      "cell_type": "markdown",
      "metadata": {
        "id": "0pIKZ0wi1JNm"
      },
      "source": [
        "## Model Evaluation"
      ]
    },
    {
      "cell_type": "code",
      "execution_count": null,
      "metadata": {
        "colab": {
          "background_save": true
        },
        "id": "pnPp4d-R1K3G",
        "outputId": "b672c2a9-5009-45d8-a318-abc25bce2e85"
      },
      "outputs": [
        {
          "name": "stdout",
          "output_type": "stream",
          "text": [
            "5/5 [==============================] - 0s 7ms/step - loss: 4.7507e-04 - mean_squared_error: 4.7507e-04\n",
            "Test Loss: 0.0005\n",
            "Test Accuracy: 0.0005\n"
          ]
        }
      ],
      "source": [
        "# Evaluate the model\n",
        "loss, accuracy = model.evaluate(X_test, Y_test)\n",
        "print(f'Test Loss: {loss:.4f}')\n",
        "print(f'Test Accuracy: {accuracy:.4f}')"
      ]
    },
    {
      "cell_type": "code",
      "execution_count": null,
      "metadata": {
        "id": "Gs0WeCms1hO4"
      },
      "outputs": [],
      "source": [
        "# Make predictions\n",
        "predictions = model.predict(X_test)\n",
        "\n",
        "output = pd.DataFrame(columns=df.columns)\n",
        "output['Close'] = predictions[:,0]\n",
        "output['High'] = predictions[:,1]\n",
        "output = pd.DataFrame(scaler.inverse_transform(output), columns=df.columns)\n",
        "\n",
        "\n",
        "original = pd.DataFrame(scaler.inverse_transform(test_data), columns=df.columns)\n",
        "\n",
        "# Plot the predictions\n",
        "plt.subplot(2, 1, 1)\n",
        "plt.plot(output['Close'], label='Predicted')\n",
        "plt.plot(original['Close'], label='Actual')\n",
        "plt.xlabel('Time')\n",
        "plt.ylabel('Stock Price')\n",
        "plt.legend()\n",
        "\n",
        "plt.subplot(2, 1, 2)\n",
        "plt.plot(output['High'], label='Predicted')\n",
        "plt.plot(original['High'], label='Actual')\n",
        "plt.xlabel('Time')\n",
        "plt.ylabel('Stock Price')\n",
        "plt.legend()\n",
        "plt.show()\n",
        "\n"
      ]
    }
  ],
  "metadata": {
    "colab": {
      "collapsed_sections": [
        "saYeJk4Pu6r3"
      ],
      "toc_visible": true,
      "provenance": [],
      "authorship_tag": "ABX9TyOq7Zo8K2148v+vedgNtwlr",
      "include_colab_link": true
    },
    "kernelspec": {
      "display_name": "Python 3",
      "name": "python3"
    },
    "language_info": {
      "name": "python"
    }
  },
  "nbformat": 4,
  "nbformat_minor": 0
}